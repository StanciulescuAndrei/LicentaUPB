{
 "cells": [
  {
   "cell_type": "markdown",
   "metadata": {
    "collapsed": true,
    "pycharm": {
     "name": "#%% md\n"
    }
   },
   "source": [
    "# Sistem de fuziune a deciziilor prin ponderare"
   ]
  },
  {
   "cell_type": "code",
   "execution_count": 1,
   "outputs": [],
   "source": [
    "from FusionSystem import *\n",
    "import torch\n",
    "import torch.optim as optim\n",
    "import torch.nn as nn\n",
    "from SegDataset import *\n",
    "from utils.function_lib import *\n",
    "from utils.DiceLoss import DiceLoss\n",
    "from tqdm import tqdm"
   ],
   "metadata": {
    "collapsed": false,
    "pycharm": {
     "name": "#%%\n"
    }
   }
  },
  {
   "cell_type": "code",
   "execution_count": 2,
   "outputs": [],
   "source": [
    "training_path = 'G:/MachineLearning/lesion-database/validation/'\n",
    "\n",
    "training_dataset = SegDataset(training_path)\n",
    "training_dataloader = torch.utils.data.DataLoader(training_dataset, batch_size=16, shuffle=False, num_workers=4, pin_memory=True)\n",
    "\n",
    "device = torch.device('cpu')\n",
    "fusion_model = FusionSystem(num_sources=4).to(device)\n",
    "optimizer = optim.SGD(fusion_model.parameters() ,lr=10, momentum=0.9)\n",
    "scheduler = optim.lr_scheduler.StepLR(optimizer, step_size=5, gamma=0.9)\n",
    "loss_fcn = nn.BCEWithLogitsLoss().to(device)\n",
    "# checkpoint = torch.load('G:/MachineLearning/models/Fusion/Fusion_checkpoint.pt')\n",
    "# fusion_model.load_state_dict(checkpoint['model_state_dict'])"
   ],
   "metadata": {
    "collapsed": false,
    "pycharm": {
     "name": "#%%\n"
    }
   }
  },
  {
   "cell_type": "code",
   "execution_count": 3,
   "outputs": [
    {
     "name": "stdout",
     "output_type": "stream",
     "text": [
      "loss: 0.915053  [   96/ 1507]\n",
      "loss: 0.034753  [  176/ 1507]\n",
      "loss: 0.000048  [  192/ 1507]\n",
      "loss: 0.000000  [  224/ 1507]\n",
      "loss: 0.016907  [  240/ 1507]\n",
      "loss: 0.026574  [  256/ 1507]\n",
      "loss: 0.154997  [  368/ 1507]\n",
      "loss: 1.373183  [  560/ 1507]\n",
      "loss: 0.260352  [  592/ 1507]\n",
      "loss: 0.000499  [  608/ 1507]\n",
      "loss: 0.000000  [  688/ 1507]\n",
      "loss: 0.000000  [  784/ 1507]\n",
      "loss: 0.140482  [  864/ 1507]\n",
      "loss: 0.000000  [  896/ 1507]\n",
      "loss: 0.027217  [  960/ 1507]\n",
      "loss: 0.047372  [ 1040/ 1507]\n",
      "loss: 0.106802  [ 1056/ 1507]\n",
      "loss: 0.007367  [ 1104/ 1507]\n",
      "loss: 0.040050  [ 1216/ 1507]\n",
      "loss: 0.007274  [ 1280/ 1507]\n",
      "loss: 0.000000  [ 1344/ 1507]\n",
      "loss: 0.101543  [ 1408/ 1507]\n",
      "loss: 0.000000  [ 1424/ 1507]\n",
      "loss: 0.000000  [  282/ 1507]\n",
      "Avg loss: 0.376759 \n",
      "\n",
      "loss: 0.000000  [   64/ 1507]\n",
      "loss: 0.000000  [   80/ 1507]\n",
      "loss: 0.086496  [  160/ 1507]\n",
      "loss: 0.028644  [  240/ 1507]\n",
      "loss: 0.037827  [  256/ 1507]\n",
      "loss: 1.643360  [  416/ 1507]\n",
      "loss: 1.510589  [  432/ 1507]\n",
      "loss: 4.810049  [  464/ 1507]\n",
      "loss: 0.000000  [  800/ 1507]\n",
      "loss: 0.016038  [  816/ 1507]\n",
      "loss: 0.036822  [  864/ 1507]\n",
      "loss: 0.000000  [  912/ 1507]\n",
      "loss: 0.007871  [  960/ 1507]\n",
      "loss: 0.005618  [ 1312/ 1507]\n",
      "loss: 0.000000  [ 1344/ 1507]\n",
      "loss: 0.020559  [ 1408/ 1507]\n",
      "loss: 0.004094  [ 1424/ 1507]\n",
      "loss: 0.003210  [ 1456/ 1507]\n",
      "Avg loss: 0.110464 \n",
      "\n",
      "loss: 0.000000  [   80/ 1507]\n",
      "loss: 0.000006  [  304/ 1507]\n",
      "loss: 0.001081  [  352/ 1507]\n",
      "loss: 0.529479  [  416/ 1507]\n",
      "loss: 1.557187  [  480/ 1507]\n",
      "loss: 0.048975  [  592/ 1507]\n",
      "loss: 0.000000  [  656/ 1507]\n",
      "loss: 0.001013  [  672/ 1507]\n",
      "loss: 0.000014  [  704/ 1507]\n",
      "loss: 0.004278  [  720/ 1507]\n",
      "loss: 0.000675  [  768/ 1507]\n",
      "loss: 0.047151  [  816/ 1507]\n",
      "loss: 0.153229  [  832/ 1507]\n",
      "loss: 0.105450  [  848/ 1507]\n",
      "loss: 0.000000  [  992/ 1507]\n",
      "loss: 0.090045  [ 1008/ 1507]\n",
      "loss: 0.087228  [ 1024/ 1507]\n",
      "loss: 0.065034  [ 1056/ 1507]\n",
      "loss: 0.003706  [ 1104/ 1507]\n",
      "loss: 0.000000  [ 1168/ 1507]\n",
      "loss: 0.114965  [ 1200/ 1507]\n",
      "loss: 0.026087  [ 1296/ 1507]\n",
      "loss: 0.002380  [ 1472/ 1507]\n",
      "Avg loss: 0.114055 \n",
      "\n",
      "loss: 0.033461  [   16/ 1507]\n",
      "loss: 0.110666  [   32/ 1507]\n",
      "loss: 0.000000  [  128/ 1507]\n",
      "loss: 0.000541  [  144/ 1507]\n",
      "loss: 0.002607  [  192/ 1507]\n",
      "loss: 0.000000  [  224/ 1507]\n",
      "loss: 0.006701  [  240/ 1507]\n",
      "loss: 0.009224  [  256/ 1507]\n",
      "loss: 0.000198  [  272/ 1507]\n",
      "loss: 0.006550  [  320/ 1507]\n",
      "loss: 0.122711  [  384/ 1507]\n",
      "loss: 0.704899  [  432/ 1507]\n",
      "loss: 0.550651  [  528/ 1507]\n",
      "loss: 0.312156  [  560/ 1507]\n",
      "loss: 0.045652  [  592/ 1507]\n",
      "loss: 0.025714  [  640/ 1507]\n",
      "loss: 0.011127  [  752/ 1507]\n",
      "loss: 0.036907  [  816/ 1507]\n",
      "loss: 0.006695  [  928/ 1507]\n",
      "loss: 0.031873  [  944/ 1507]\n",
      "loss: 0.000000  [  976/ 1507]\n",
      "loss: 0.053144  [ 1008/ 1507]\n",
      "loss: 0.010334  [ 1040/ 1507]\n",
      "loss: 0.002848  [ 1104/ 1507]\n",
      "loss: 0.000487  [ 1152/ 1507]\n",
      "loss: 0.033543  [ 1184/ 1507]\n",
      "loss: 0.043120  [ 1232/ 1507]\n",
      "loss: 0.000000  [ 1344/ 1507]\n",
      "Avg loss: 0.089482 \n",
      "\n",
      "loss: 0.000007  [   64/ 1507]\n",
      "loss: 0.000000  [   96/ 1507]\n",
      "loss: 0.000542  [  112/ 1507]\n",
      "loss: 0.000000  [  128/ 1507]\n",
      "loss: 0.000001  [  272/ 1507]\n",
      "loss: 0.000909  [  352/ 1507]\n",
      "loss: 0.159445  [  384/ 1507]\n",
      "loss: 0.465462  [  416/ 1507]\n",
      "loss: 1.355104  [  480/ 1507]\n",
      "loss: 0.318327  [  512/ 1507]\n",
      "loss: 0.000000  [  800/ 1507]\n",
      "loss: 0.054152  [  848/ 1507]\n",
      "loss: 0.040390  [  864/ 1507]\n",
      "loss: 0.000384  [  896/ 1507]\n",
      "loss: 0.003246  [  928/ 1507]\n",
      "loss: 0.024998  [  944/ 1507]\n",
      "loss: 0.044693  [ 1008/ 1507]\n",
      "loss: 0.043758  [ 1024/ 1507]\n",
      "loss: 0.032946  [ 1056/ 1507]\n",
      "loss: 0.005947  [ 1120/ 1507]\n",
      "loss: 0.018082  [ 1136/ 1507]\n",
      "loss: 0.044893  [ 1232/ 1507]\n",
      "loss: 0.003699  [ 1440/ 1507]\n",
      "Avg loss: 0.076933 \n",
      "\n"
     ]
    }
   ],
   "source": [
    "for epoch in range(5):\n",
    "    train_loop(training_dataloader, fusion_model, loss_fcn, optimizer, scheduler=None,  device=device)\n",
    "    loss = test_loop(training_dataloader, fusion_model, loss_fcn, device=device)\n",
    "    scheduler.step()"
   ],
   "metadata": {
    "collapsed": false,
    "pycharm": {
     "name": "#%%\n"
    }
   }
  },
  {
   "cell_type": "code",
   "execution_count": 4,
   "outputs": [],
   "source": [
    "torch.save({\n",
    "                'model_state_dict': fusion_model.state_dict()\n",
    "            }, 'G:/MachineLearning/models/Fusion/Fusion_lesion_checkpoint.pt')"
   ],
   "metadata": {
    "collapsed": false,
    "pycharm": {
     "name": "#%%\n"
    }
   }
  },
  {
   "cell_type": "code",
   "execution_count": 5,
   "outputs": [
    {
     "name": "stdout",
     "output_type": "stream",
     "text": [
      "tensor([[[[0.2451]],\n",
      "\n",
      "         [[0.2214]],\n",
      "\n",
      "         [[0.2662]],\n",
      "\n",
      "         [[0.2672]]]], grad_fn=<DivBackward0>)\n",
      "DenseNet201\n",
      "Inception\n",
      "ResNet152\n",
      "ResNeXt101\n",
      "torch.Size([512, 512])\n",
      "tensor(1.)\n"
     ]
    },
    {
     "data": {
      "text/plain": "<Figure size 864x432 with 3 Axes>",
      "image/png": "[encoded data removed]"
     },
     "metadata": {
      "needs_background": "light"
     },
     "output_type": "display_data"
    }
   ],
   "source": [
    "print(fusion_model.weights.weight / torch.sum(fusion_model.weights.weight))\n",
    "show_model_seg(fusion_model.cpu(), training_dataset, 45)"
   ],
   "metadata": {
    "collapsed": false,
    "pycharm": {
     "name": "#%%\n"
    }
   }
  },
  {
   "cell_type": "markdown",
   "source": [
    "## Salvam segementarile din sistemul de fuziune"
   ],
   "metadata": {
    "collapsed": false
   }
  },
  {
   "cell_type": "code",
   "execution_count": 6,
   "outputs": [
    {
     "name": "stderr",
     "output_type": "stream",
     "text": [
      "100%|██████████| 95/95 [00:09<00:00,  9.79it/s]\n"
     ]
    }
   ],
   "source": [
    "fusion_model.eval()\n",
    "iter = 0\n",
    "with torch.no_grad():\n",
    "    imagesize = 0\n",
    "    for X, Y in tqdm(training_dataloader):\n",
    "        imagesize = torch.numel(Y)\n",
    "        pred = fusion_model(X.to(device))\n",
    "        final_func = nn.Sigmoid()\n",
    "        pred = final_func(pred)\n",
    "        pred = torch.nn.functional.interpolate(pred, size=256, mode=\"bilinear\", align_corners=False).squeeze()\n",
    "        pred = torch.round(pred)\n",
    "        for i in range(pred.size(dim = 0)):\n",
    "            slc = pred[i, :, :]\n",
    "            slc = slc.cpu().numpy()\n",
    "            slc.astype(np.int8).tofile('G:/MachineLearning/lesion-database/validation/Fusion/output' + (\"-%04d.ct\" % iter))\n",
    "            iter = iter + 1"
   ],
   "metadata": {
    "collapsed": false,
    "pycharm": {
     "name": "#%%\n"
    }
   }
  },
  {
   "cell_type": "code",
   "execution_count": 12,
   "outputs": [],
   "source": [],
   "metadata": {
    "collapsed": false,
    "pycharm": {
     "name": "#%%\n"
    }
   }
  }
 ],
 "metadata": {
  "kernelspec": {
   "display_name": "Python 3",
   "language": "python",
   "name": "python3"
  },
  "language_info": {
   "codemirror_mode": {
    "name": "ipython",
    "version": 2
   },
   "file_extension": ".py",
   "mimetype": "text/x-python",
   "name": "python",
   "nbconvert_exporter": "python",
   "pygments_lexer": "ipython2",
   "version": "2.7.6"
  }
 },
 "nbformat": 4,
 "nbformat_minor": 0
}