{
 "cells": [
  {
   "cell_type": "markdown",
   "metadata": {
    "collapsed": true,
    "pycharm": {
     "name": "#%% md\n"
    }
   },
   "source": [
    "# Sistem de fuziune a deciziilor prin ponderare"
   ]
  },
  {
   "cell_type": "code",
   "execution_count": 1,
   "outputs": [],
   "source": [
    "from FusionSystem import *\n",
    "import torch\n",
    "import torch.optim as optim\n",
    "import torch.nn as nn\n",
    "from SegDataset import *\n",
    "from utils.function_lib import *\n",
    "from utils.DiceLoss import DiceLoss"
   ],
   "metadata": {
    "collapsed": false,
    "pycharm": {
     "name": "#%%\n"
    }
   }
  },
  {
   "cell_type": "code",
   "execution_count": 2,
   "outputs": [],
   "source": [
    "training_path = 'G:/MachineLearning/liver-database/validation/'\n",
    "\n",
    "training_dataset = SegDataset(training_path)\n",
    "training_dataloader = torch.utils.data.DataLoader(training_dataset, batch_size=16, shuffle=True, num_workers=4, pin_memory=True)\n",
    "\n",
    "device = torch.device('cuda')\n",
    "fusion_model = FusionSystem(num_sources=4).to(device)\n",
    "optimizer = optim.SGD(fusion_model.parameters() ,lr=10, momentum=0.9)\n",
    "scheduler = optim.lr_scheduler.StepLR(optimizer, step_size=5, gamma=0.9)\n",
    "loss_fcn = nn.BCEWithLogitsLoss().to(device)"
   ],
   "metadata": {
    "collapsed": false,
    "pycharm": {
     "name": "#%%\n"
    }
   }
  },
  {
   "cell_type": "code",
   "execution_count": 3,
   "outputs": [
    {
     "name": "stdout",
     "output_type": "stream",
     "text": [
      "loss: 0.596600  [    0/ 4776]\n",
      "loss: 0.025851  [ 1600/ 4776]\n",
      "loss: 0.021264  [ 3200/ 4776]\n",
      "Avg loss: 0.015618 \n",
      "\n",
      "loss: 0.020643  [    0/ 4776]\n",
      "loss: 0.015468  [ 1600/ 4776]\n",
      "loss: 0.003898  [ 3200/ 4776]\n",
      "Avg loss: 0.008279 \n",
      "\n"
     ]
    }
   ],
   "source": [
    "for epoch in range(2):\n",
    "    train_loop(training_dataloader, fusion_model, loss_fcn, optimizer, scheduler=None,  device=device)\n",
    "    loss = test_loop(training_dataloader, fusion_model, loss_fcn, device=device)\n",
    "    scheduler.step()"
   ],
   "metadata": {
    "collapsed": false,
    "pycharm": {
     "name": "#%%\n"
    }
   }
  },
  {
   "cell_type": "code",
   "execution_count": 4,
   "outputs": [
    {
     "name": "stdout",
     "output_type": "stream",
     "text": [
      "Parameter containing:\n",
      "tensor([[[[1.5344]],\n",
      "\n",
      "         [[2.1826]],\n",
      "\n",
      "         [[4.0234]],\n",
      "\n",
      "         [[3.8882]]]], device='cuda:0', requires_grad=True)\n",
      "DenseNet201\n",
      "Inception\n",
      "ResNet152\n",
      "ResNeXt101\n",
      "torch.Size([512, 512])\n",
      "tensor(1.)\n"
     ]
    },
    {
     "data": {
      "text/plain": "<Figure size 432x288 with 3 Axes>",
      "image/png": "[encoded data removed]"
     },
     "metadata": {
      "needs_background": "light"
     },
     "output_type": "display_data"
    }
   ],
   "source": [
    "## tensor([-0.5175, -0.3556,  1.7958,  2.1399], device='cuda:0', requires_grad=True)\n",
    "print(fusion_model.weights.weight)\n",
    "show_model_seg(fusion_model.cpu(), training_dataset, 584)"
   ],
   "metadata": {
    "collapsed": false,
    "pycharm": {
     "name": "#%%\n"
    }
   }
  },
  {
   "cell_type": "code",
   "execution_count": 4,
   "outputs": [],
   "source": [],
   "metadata": {
    "collapsed": false,
    "pycharm": {
     "name": "#%%\n"
    }
   }
  }
 ],
 "metadata": {
  "kernelspec": {
   "display_name": "Python 3",
   "language": "python",
   "name": "python3"
  },
  "language_info": {
   "codemirror_mode": {
    "name": "ipython",
    "version": 2
   },
   "file_extension": ".py",
   "mimetype": "text/x-python",
   "name": "python",
   "nbconvert_exporter": "python",
   "pygments_lexer": "ipython2",
   "version": "2.7.6"
  }
 },
 "nbformat": 4,
 "nbformat_minor": 0
}