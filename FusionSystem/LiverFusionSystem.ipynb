{
 "cells": [
  {
   "cell_type": "markdown",
   "metadata": {
    "collapsed": true,
    "pycharm": {
     "name": "#%% md\n"
    }
   },
   "source": [
    "# Sistem de fuziune a deciziilor prin ponderare"
   ]
  },
  {
   "cell_type": "code",
   "execution_count": 7,
   "outputs": [],
   "source": [
    "from FusionSystem import *\n",
    "import torch\n",
    "import torch.optim as optim\n",
    "import torch.nn as nn\n",
    "from SegDataset import *\n",
    "from utils.function_lib import *\n",
    "from utils.DiceLoss import DiceLoss\n",
    "from tqdm import tqdm"
   ],
   "metadata": {
    "collapsed": false,
    "pycharm": {
     "name": "#%%\n"
    }
   }
  },
  {
   "cell_type": "code",
   "execution_count": 8,
   "outputs": [
    {
     "data": {
      "text/plain": "<All keys matched successfully>"
     },
     "execution_count": 8,
     "metadata": {},
     "output_type": "execute_result"
    }
   ],
   "source": [
    "training_path = 'G:/MachineLearning/liver-database/validation/'\n",
    "\n",
    "training_dataset = SegDataset(training_path)\n",
    "training_dataloader = torch.utils.data.DataLoader(training_dataset, batch_size=16, shuffle=False, num_workers=4, pin_memory=True)\n",
    "\n",
    "device = torch.device('cpu')\n",
    "fusion_model = FusionSystem(num_sources=4).to(device)\n",
    "optimizer = optim.SGD(fusion_model.parameters() ,lr=10, momentum=0.9)\n",
    "scheduler = optim.lr_scheduler.StepLR(optimizer, step_size=5, gamma=0.9)\n",
    "loss_fcn = nn.BCEWithLogitsLoss().to(device)\n",
    "checkpoint = torch.load('G:/MachineLearning/models/Fusion/Fusion_checkpoint.pt')\n",
    "fusion_model.load_state_dict(checkpoint['model_state_dict'])"
   ],
   "metadata": {
    "collapsed": false,
    "pycharm": {
     "name": "#%%\n"
    }
   }
  },
  {
   "cell_type": "code",
   "execution_count": 9,
   "outputs": [],
   "source": [
    "# for epoch in range(5):\n",
    "#     train_loop(training_dataloader, fusion_model, loss_fcn, optimizer, scheduler=None,  device=device)\n",
    "#     loss = test_loop(training_dataloader, fusion_model, loss_fcn, device=device)\n",
    "#     scheduler.step()"
   ],
   "metadata": {
    "collapsed": false,
    "pycharm": {
     "name": "#%%\n"
    }
   }
  },
  {
   "cell_type": "code",
   "execution_count": 10,
   "outputs": [],
   "source": [
    "# torch.save({\n",
    "#                 'model_state_dict': fusion_model.state_dict()\n",
    "#             }, 'G:/MachineLearning/models/Fusion/Fusion_checkpoint.pt')"
   ],
   "metadata": {
    "collapsed": false,
    "pycharm": {
     "name": "#%%\n"
    }
   }
  },
  {
   "cell_type": "code",
   "execution_count": 11,
   "outputs": [
    {
     "name": "stdout",
     "output_type": "stream",
     "text": [
      "Parameter containing:\n",
      "tensor([[[[2.6371]],\n",
      "\n",
      "         [[2.9302]],\n",
      "\n",
      "         [[3.5965]],\n",
      "\n",
      "         [[3.5263]]]], requires_grad=True)\n",
      "DenseNet201\n",
      "Inception\n",
      "ResNet152\n",
      "ResNeXt101\n",
      "torch.Size([512, 512])\n",
      "tensor(1.)\n"
     ]
    },
    {
     "data": {
      "text/plain": "<Figure size 432x288 with 3 Axes>",
      "image/png": "[encoded data removed]"
     },
     "metadata": {
      "needs_background": "light"
     },
     "output_type": "display_data"
    }
   ],
   "source": [
    "print(fusion_model.weights.weight)\n",
    "show_model_seg(fusion_model.cpu(), training_dataset, 60)"
   ],
   "metadata": {
    "collapsed": false,
    "pycharm": {
     "name": "#%%\n"
    }
   }
  },
  {
   "cell_type": "markdown",
   "source": [
    "## Salvam segementarile din sistemul de fuziune"
   ],
   "metadata": {
    "collapsed": false
   }
  },
  {
   "cell_type": "code",
   "execution_count": 12,
   "outputs": [
    {
     "name": "stderr",
     "output_type": "stream",
     "text": [
      "100%|██████████| 299/299 [01:07<00:00,  4.46it/s]\n"
     ]
    }
   ],
   "source": [
    "fusion_model.eval()\n",
    "iter = 0\n",
    "with torch.no_grad():\n",
    "    imagesize = 0\n",
    "    for X, Y in tqdm(training_dataloader):\n",
    "        imagesize = torch.numel(Y)\n",
    "        pred = fusion_model(X.to(device))\n",
    "        final_func = nn.Sigmoid()\n",
    "        pred = final_func(pred)\n",
    "        pred = torch.nn.functional.interpolate(pred, size=512, mode=\"bilinear\", align_corners=False).squeeze()\n",
    "        pred = torch.round(pred)\n",
    "        for i in range(pred.size(dim = 0)):\n",
    "            slc = pred[i, :, :]\n",
    "            slc = slc.cpu().numpy()\n",
    "            slc.astype(np.int8).tofile('G:/MachineLearning/liver-database/validation/Fusion/output' + (\"-%04d.ct\" % iter))\n",
    "            iter = iter + 1"
   ],
   "metadata": {
    "collapsed": false,
    "pycharm": {
     "name": "#%%\n"
    }
   }
  },
  {
   "cell_type": "code",
   "execution_count": 12,
   "outputs": [],
   "source": [],
   "metadata": {
    "collapsed": false,
    "pycharm": {
     "name": "#%%\n"
    }
   }
  }
 ],
 "metadata": {
  "kernelspec": {
   "display_name": "Python 3",
   "language": "python",
   "name": "python3"
  },
  "language_info": {
   "codemirror_mode": {
    "name": "ipython",
    "version": 2
   },
   "file_extension": ".py",
   "mimetype": "text/x-python",
   "name": "python",
   "nbconvert_exporter": "python",
   "pygments_lexer": "ipython2",
   "version": "2.7.6"
  }
 },
 "nbformat": 4,
 "nbformat_minor": 0
}