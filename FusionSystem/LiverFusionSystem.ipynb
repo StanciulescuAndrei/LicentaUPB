{
 "cells": [
  {
   "cell_type": "markdown",
   "metadata": {
    "collapsed": true,
    "pycharm": {
     "name": "#%% md\n"
    }
   },
   "source": [
    "# Sistem de fuziune a deciziilor prin ponderare"
   ]
  },
  {
   "cell_type": "code",
   "execution_count": 1,
   "outputs": [],
   "source": [
    "from FusionSystem import *\n",
    "import torch\n",
    "import torch.optim as optim\n",
    "import torch.nn as nn\n",
    "from SegDataset import *\n",
    "from utils.function_lib import *\n",
    "from utils.DiceLoss import DiceLoss"
   ],
   "metadata": {
    "collapsed": false,
    "pycharm": {
     "name": "#%%\n"
    }
   }
  },
  {
   "cell_type": "code",
   "execution_count": 2,
   "outputs": [],
   "source": [
    "training_path = 'G:/MachineLearning/liver-database/validation/'\n",
    "\n",
    "training_dataset = SegDataset(training_path)\n",
    "training_dataloader = torch.utils.data.DataLoader(training_dataset, batch_size=16, shuffle=True, num_workers=4, pin_memory=True)\n",
    "\n",
    "device = torch.device('cuda')\n",
    "fusion_model = FusionSystem(num_sources=4).to(device)\n",
    "optimizer = optim.SGD(fusion_model.parameters() ,lr=10, momentum=0.9)\n",
    "scheduler = optim.lr_scheduler.StepLR(optimizer, step_size=5, gamma=0.9)\n",
    "loss_fcn = nn.BCEWithLogitsLoss().to(device)"
   ],
   "metadata": {
    "collapsed": false,
    "pycharm": {
     "name": "#%%\n"
    }
   }
  },
  {
   "cell_type": "code",
   "execution_count": 3,
   "outputs": [
    {
     "name": "stdout",
     "output_type": "stream",
     "text": [
      "Conv2d(4, 1, kernel_size=(1, 1), stride=(1, 1))\n",
      "loss: 0.506391  [    0/ 4776]\n",
      "loss: 0.027311  [ 1600/ 4776]\n",
      "loss: 0.024151  [ 3200/ 4776]\n",
      "Avg loss: 0.013871 \n",
      "\n",
      "Conv2d(4, 1, kernel_size=(1, 1), stride=(1, 1))\n",
      "loss: 0.007365  [    0/ 4776]\n",
      "loss: 0.014798  [ 1600/ 4776]\n",
      "loss: 0.006528  [ 3200/ 4776]\n",
      "Avg loss: 0.008302 \n",
      "\n",
      "Conv2d(4, 1, kernel_size=(1, 1), stride=(1, 1))\n",
      "loss: 0.010980  [    0/ 4776]\n",
      "loss: 0.013135  [ 1600/ 4776]\n",
      "loss: 0.007128  [ 3200/ 4776]\n",
      "Avg loss: 0.008319 \n",
      "\n",
      "Conv2d(4, 1, kernel_size=(1, 1), stride=(1, 1))\n",
      "loss: 0.009092  [    0/ 4776]\n",
      "loss: 0.008471  [ 1600/ 4776]\n",
      "loss: 0.004781  [ 3200/ 4776]\n",
      "Avg loss: 0.008315 \n",
      "\n",
      "Conv2d(4, 1, kernel_size=(1, 1), stride=(1, 1))\n",
      "loss: 0.007829  [    0/ 4776]\n",
      "loss: 0.007031  [ 1600/ 4776]\n",
      "loss: 0.010664  [ 3200/ 4776]\n",
      "Avg loss: 0.008310 \n",
      "\n"
     ]
    }
   ],
   "source": [
    "for epoch in range(100):\n",
    "    print(fusion_model.weights)\n",
    "    train_loop(training_dataloader, fusion_model, loss_fcn, optimizer, scheduler=None,  device=device)\n",
    "    loss = test_loop(training_dataloader, fusion_model, loss_fcn, device=device)\n",
    "    scheduler.step()"
   ],
   "metadata": {
    "collapsed": false,
    "pycharm": {
     "name": "#%%\n"
    }
   }
  },
  {
   "cell_type": "code",
   "execution_count": 4,
   "outputs": [
    {
     "name": "stdout",
     "output_type": "stream",
     "text": [
      "Parameter containing:\n",
      "tensor([[[[1.8371]],\n",
      "\n",
      "         [[1.9846]],\n",
      "\n",
      "         [[4.1551]],\n",
      "\n",
      "         [[3.8812]]]], device='cuda:0', requires_grad=True)\n",
      "DenseNet201\n",
      "Inception\n",
      "ResNet152\n",
      "ResNeXt101\n",
      "tensor(1.)\n"
     ]
    },
    {
     "data": {
      "text/plain": "<Figure size 432x288 with 2 Axes>",
      "image/png": "[encoded data removed]"
     },
     "metadata": {
      "needs_background": "light"
     },
     "output_type": "display_data"
    }
   ],
   "source": [
    "## tensor([-0.5175, -0.3556,  1.7958,  2.1399], device='cuda:0', requires_grad=True)\n",
    "\n",
    "fusion_model.eval()\n",
    "print(fusion_model.weights.weight)\n",
    "input_tensor, mask = training_dataset.__getitem__(60)\n",
    "input_batch = input_tensor.repeat(2, 1, 1, 1)\n",
    "pred = fusion_model(input_batch.to(device))\n",
    "\n",
    "final_func = nn.Sigmoid()\n",
    "pred = final_func(pred).squeeze()\n",
    "pred = torch.nn.functional.interpolate(pred.unsqueeze(0), size=512, mode=\"bilinear\", align_corners=False).squeeze()\n",
    "output_predictions = torch.round(pred[0])\n",
    "\n",
    "# print(output_predictions.shape)\n",
    "output_predictions = output_predictions.cpu().detach().squeeze()\n",
    "output_predictions = np.round(output_predictions)\n",
    "mask = mask.cpu().detach().squeeze()\n",
    "\n",
    "palette = torch.tensor([2 ** 25 - 1, 2 ** 15 - 1, 2 ** 21 - 1])\n",
    "colors = torch.as_tensor([i for i in range(3)])[:, None] * 1.1 * palette\n",
    "colors = (colors % 255).numpy().astype(\"uint8\")\n",
    "\n",
    "# plot the semantic segmentation predictions of 21 classes in each color\n",
    "r = Image.fromarray(output_predictions.byte().cpu().numpy())\n",
    "r.putpalette(colors)\n",
    "\n",
    "r_mask = Image.fromarray(mask.byte().cpu().numpy())\n",
    "r_mask.putpalette(colors)\n",
    "\n",
    "print(torch.max(output_predictions))\n",
    "plt.figure()\n",
    "plt.subplot(1, 2, 1)\n",
    "plt.imshow(r)\n",
    "plt.subplot(1, 2, 2)\n",
    "plt.imshow(r_mask)\n",
    "plt.show()"
   ],
   "metadata": {
    "collapsed": false,
    "pycharm": {
     "name": "#%%\n"
    }
   }
  },
  {
   "cell_type": "code",
   "execution_count": 4,
   "outputs": [],
   "source": [],
   "metadata": {
    "collapsed": false,
    "pycharm": {
     "name": "#%%\n"
    }
   }
  }
 ],
 "metadata": {
  "kernelspec": {
   "display_name": "Python 3",
   "language": "python",
   "name": "python3"
  },
  "language_info": {
   "codemirror_mode": {
    "name": "ipython",
    "version": 2
   },
   "file_extension": ".py",
   "mimetype": "text/x-python",
   "name": "python",
   "nbconvert_exporter": "python",
   "pygments_lexer": "ipython2",
   "version": "2.7.6"
  }
 },
 "nbformat": 4,
 "nbformat_minor": 0
}