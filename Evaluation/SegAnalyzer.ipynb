{
 "cells": [
  {
   "cell_type": "code",
   "execution_count": 18,
   "metadata": {
    "collapsed": true
   },
   "outputs": [],
   "source": [
    "from torch.utils.data import Dataset\n",
    "import torchvision.transforms.functional as F\n",
    "from utils.DiceLoss import DiceLoss\n",
    "from utils.JaccardIndex import JaccardIndex\n",
    "import glob\n",
    "import numpy as np\n",
    "import torch\n",
    "import matplotlib.pyplot as plt"
   ]
  },
  {
   "cell_type": "code",
   "execution_count": 19,
   "outputs": [
    {
     "name": "stdout",
     "output_type": "stream",
     "text": [
      "Done loading DenseNet201\n",
      "Done loading Inception\n",
      "Done loading ResNet152\n",
      "Done loading ResNeXt101\n",
      "Done loading ground truth\n"
     ]
    }
   ],
   "source": [
    "# Incarcare imagini presegmentate\n",
    "seg_folder = 'G:/MachineLearning/liver-database/outputs/'\n",
    "models = ['DenseNet201', 'Inception', 'ResNet152', 'ResNeXt101']\n",
    "seg = np.zeros((4, 4776, 512, 512), dtype=bool)\n",
    "for i in range(len(models)):\n",
    "    full_path = seg_folder + models[i]\n",
    "    seg_files = glob.glob(full_path + '/*.ct')\n",
    "    for j in range(len(seg_files)):\n",
    "        seg[i, j, :, :] = np.fromfile(seg_files[j], dtype=np.int8).squeeze().reshape([512, 512]).astype(bool)\n",
    "    print(f\"Done loading {models[i]}\")\n",
    "\n",
    "seg = torch.tensor(seg)\n",
    "\n",
    "# Incarcare ground truth\n",
    "lits_seg = glob.glob('G:/MachineLearning/liver-database/validation/masks/*.ct')\n",
    "ground_truth = np.zeros((4776, 512, 512), dtype=bool)\n",
    "for j in range(len(lits_seg)):\n",
    "    ground_truth[j, :, :] = np.fromfile(lits_seg[j], dtype=np.float16).squeeze().reshape([512, 512]).astype(bool)\n",
    "print(f\"Done loading ground truth\")\n",
    "ground_truth = torch.tensor(ground_truth)"
   ],
   "metadata": {
    "collapsed": false,
    "pycharm": {
     "name": "#%%\n"
    }
   }
  },
  {
   "cell_type": "code",
   "execution_count": 20,
   "outputs": [
    {
     "name": "stdout",
     "output_type": "stream",
     "text": [
      "Dice score average per case for DenseNet201: 0.921\n",
      "Dice score average per case for Inception: 0.918\n",
      "Dice score average per case for ResNet152: 0.954\n",
      "Dice score average per case for ResNeXt101: 0.955\n",
      "\n",
      "Dice score per slice average for DenseNet201: 0.929\n",
      "Dice score per slice average for Inception: 0.938\n",
      "Dice score per slice average for ResNet152: 0.939\n",
      "Dice score per slice average for ResNeXt101: 0.949\n",
      "\n",
      "Jaccard index average per case for DenseNet201: 0.854\n",
      "Jaccard index average per case for Inception: 0.849\n",
      "Jaccard index average per case for ResNet152: 0.912\n",
      "Jaccard index average per case for ResNeXt101: 0.913\n"
     ]
    }
   ],
   "source": [
    "# Evaluam DICE per case, average dice per slice si Jaccard\n",
    "dice_loss = DiceLoss()\n",
    "jaccard = JaccardIndex()\n",
    "\n",
    "for i in range(len(models)):\n",
    "    dice = 1.0 - dice_loss(ground_truth, seg[i, :, :, :].squeeze())\n",
    "    print(f\"Dice score average per case for {models[i]}: {dice:.3f}\")\n",
    "print('')\n",
    "for i in range(len(models)):\n",
    "    dice = 0\n",
    "    for s in range(ground_truth.size(dim=0)):\n",
    "        dice += (1.0 - dice_loss(ground_truth[s, :, :], seg[i, s, :, :]))\n",
    "    dice = dice / ground_truth.size(dim=0)\n",
    "    print(f\"Dice score per slice average for {models[i]}: {dice:.3f}\")\n",
    "print('')\n",
    "for i in range(len(models)):\n",
    "    jcc_score = jaccard(ground_truth, seg[i, :, :, :].squeeze())\n",
    "    print(f\"Jaccard index average per case for {models[i]}: {jcc_score:.3f}\")"
   ],
   "metadata": {
    "collapsed": false,
    "pycharm": {
     "name": "#%%\n"
    }
   }
  },
  {
   "cell_type": "code",
   "execution_count": 21,
   "outputs": [],
   "source": [
    "# Facem diferentele de segmentari\n",
    "num_models = len(models)\n",
    "diff_dice = torch.zeros(num_models, num_models)\n",
    "for i in range(num_models):\n",
    "    for j in range(num_models):\n",
    "        diff_dice[i, j] = 1.0 - dice_loss(seg[i, :, :, :] ^ ground_truth, seg[j, :, :, :] ^ ground_truth)\n",
    "diff_dice = diff_dice.cpu().numpy()"
   ],
   "metadata": {
    "collapsed": false,
    "pycharm": {
     "name": "#%%\n"
    }
   }
  },
  {
   "cell_type": "code",
   "execution_count": 22,
   "outputs": [
    {
     "data": {
      "text/plain": "<Figure size 576x576 with 1 Axes>",
      "image/png": "[encoded data removed]"
     },
     "metadata": {
      "needs_background": "light"
     },
     "output_type": "display_data"
    }
   ],
   "source": [
    "fig, ax = plt.subplots(figsize=(8, 8))\n",
    "im = ax.imshow(diff_dice)\n",
    "\n",
    "# Show all ticks and label them with the respective list entries\n",
    "ax.set_xticks(np.arange(len(models)), labels=models)\n",
    "ax.set_yticks(np.arange(len(models)), labels=models)\n",
    "\n",
    "# Rotate the tick labels and set their alignment.\n",
    "plt.setp(ax.get_xticklabels(), rotation=45, ha=\"right\",\n",
    "         rotation_mode=\"anchor\")\n",
    "\n",
    "# Loop over data dimensions and create text annotations.\n",
    "for i in range(len(models)):\n",
    "    for j in range(len(models)):\n",
    "        text = ax.text(j, i, (\"%.3f\" % diff_dice[i, j]),\n",
    "                       ha=\"center\", va=\"center\", color=\"w\")\n",
    "\n",
    "ax.set_title(\"DICE similarity between model segmentations\")\n",
    "fig.tight_layout()\n",
    "plt.show()"
   ],
   "metadata": {
    "collapsed": false,
    "pycharm": {
     "name": "#%%\n"
    }
   }
  },
  {
   "cell_type": "code",
   "execution_count": 22,
   "outputs": [],
   "source": [],
   "metadata": {
    "collapsed": false,
    "pycharm": {
     "name": "#%%\n"
    }
   }
  }
 ],
 "metadata": {
  "kernelspec": {
   "display_name": "Python 3",
   "language": "python",
   "name": "python3"
  },
  "language_info": {
   "codemirror_mode": {
    "name": "ipython",
    "version": 2
   },
   "file_extension": ".py",
   "mimetype": "text/x-python",
   "name": "python",
   "nbconvert_exporter": "python",
   "pygments_lexer": "ipython2",
   "version": "2.7.6"
  }
 },
 "nbformat": 4,
 "nbformat_minor": 0
}