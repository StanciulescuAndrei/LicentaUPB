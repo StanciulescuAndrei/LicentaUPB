{
 "cells": [
  {
   "cell_type": "code",
   "execution_count": 1,
   "metadata": {
    "collapsed": true
   },
   "outputs": [],
   "source": [
    "from torch.utils.data import Dataset\n",
    "import torchvision.transforms.functional as F\n",
    "from utils.DiceLoss import DiceLoss\n",
    "from utils.JaccardIndex import JaccardIndex\n",
    "import glob\n",
    "import numpy as np\n",
    "import torch\n",
    "import matplotlib.pyplot as plt\n",
    "import seaborn as sns\n",
    "from skimage.feature import blob_doh, blob_log\n",
    "from skimage.morphology import dilation, square\n",
    "from skimage.measure import label, regionprops\n",
    "import math\n",
    "import sys\n",
    "# sys.setrecursionlimit(512 * 512)"
   ]
  },
  {
   "cell_type": "code",
   "execution_count": 2,
   "outputs": [
    {
     "name": "stdout",
     "output_type": "stream",
     "text": [
      "Done loading DenseNet201\n",
      "Done loading Inception\n",
      "Done loading ResNet152\n",
      "Done loading ResNeXt101\n",
      "Done loading Fusion\n",
      "Done loading DenseNet201 post-processed\n",
      "Done loading Inception post-processed\n",
      "Done loading ResNet152 post-processed\n",
      "Done loading ResNeXt101 post-processed\n",
      "Done loading Fusion post-processed\n",
      "Done loading ground truth\n"
     ]
    }
   ],
   "source": [
    "# Incarcare imagini presegmentate\n",
    "seg_folder = 'G:/MachineLearning/liver-database/validation/'\n",
    "models = ['DenseNet201', 'Inception', 'ResNet152', 'ResNeXt101', 'Fusion']\n",
    "# models = ['DenseNet201']\n",
    "# models = ['UNet', 'Fusion']\n",
    "seg = np.zeros((len(models), 4776, 512, 512), dtype=bool)\n",
    "seg_proc = np.zeros((len(models), 4776, 512, 512), dtype=bool)\n",
    "for i in range(len(models)):\n",
    "    full_path = seg_folder + models[i]\n",
    "    seg_files = glob.glob(full_path + '/*.ct')\n",
    "    for j in range(len(seg_files)):\n",
    "        seg[i, j, :, :] = np.fromfile(seg_files[j], dtype=np.int8).squeeze().reshape([512, 512]).astype(bool)\n",
    "    print(f\"Done loading {models[i]}\")\n",
    "\n",
    "seg = torch.tensor(seg)\n",
    "\n",
    "seg_folder = 'G:/MachineLearning/liver-database/validation/processed/'\n",
    "models = ['DenseNet201', 'Inception', 'ResNet152', 'ResNeXt101', 'Fusion']\n",
    "for i in range(len(models)):\n",
    "    full_path = seg_folder + models[i]\n",
    "    seg_files = glob.glob(full_path + '/*.ct')\n",
    "    for j in range(len(seg_files)):\n",
    "        seg_proc[i, j, :, :] = np.fromfile(seg_files[j], dtype=np.int8).squeeze().reshape([512, 512]).astype(bool)\n",
    "    print(f\"Done loading {models[i]} post-processed\")\n",
    "\n",
    "seg_proc = torch.tensor(seg_proc)\n",
    "\n",
    "# Incarcare ground truth\n",
    "lits_seg = glob.glob('G:/MachineLearning/liver-database/validation/masks/*.ct')\n",
    "ground_truth = np.zeros((4776, 512, 512), dtype=bool)\n",
    "for j in range(len(lits_seg)):\n",
    "    ground_truth[j, :, :] = np.fromfile(lits_seg[j], dtype=np.float16).squeeze().reshape([512, 512]).astype(bool)\n",
    "print(f\"Done loading ground truth\")\n",
    "ground_truth = torch.tensor(ground_truth)"
   ],
   "metadata": {
    "collapsed": false,
    "pycharm": {
     "name": "#%%\n"
    }
   }
  },
  {
   "cell_type": "code",
   "execution_count": 3,
   "outputs": [
    {
     "data": {
      "text/plain": "<Figure size 1296x720 with 3 Axes>",
      "image/png": "[encoded data removed]"
     },
     "metadata": {
      "needs_background": "light"
     },
     "output_type": "display_data"
    }
   ],
   "source": [
    "plt.figure(figsize = (18, 10))\n",
    "ax = plt.subplot(1, 3, 1)\n",
    "ax.grid(False)\n",
    "plt.title(\"Initial segmentation\")\n",
    "plt.xlabel('px')\n",
    "plt.ylabel('px')\n",
    "plt.imshow(seg[2, 1118, :, :].squeeze())\n",
    "ax = plt.subplot(1, 3, 2)\n",
    "ax.grid(False)\n",
    "plt.title(\"Processed segmentation\")\n",
    "plt.xlabel('px')\n",
    "plt.ylabel('px')\n",
    "plt.imshow(seg_proc[2, 1118, :, :].squeeze())\n",
    "ax = plt.subplot(1, 3, 3)\n",
    "ax.grid(False)\n",
    "plt.title(\"Ground truth\")\n",
    "plt.xlabel('px')\n",
    "plt.ylabel('px')\n",
    "plt.imshow(ground_truth[1118, :, :].squeeze())\n",
    "ax.grid(False)"
   ],
   "metadata": {
    "collapsed": false,
    "pycharm": {
     "name": "#%%\n"
    }
   }
  },
  {
   "cell_type": "code",
   "execution_count": 5,
   "outputs": [
    {
     "name": "stdout",
     "output_type": "stream",
     "text": [
      "Dice score average per case for DenseNet201: 0.949\n",
      "Dice score average per case for Inception: 0.944\n",
      "Dice score average per case for ResNet152: 0.955\n",
      "Dice score average per case for ResNeXt101: 0.953\n",
      "Dice score average per case for Fusion: 0.957\n",
      "\n",
      "Dice score average per case for DenseNet201: 0.953\n",
      "Dice score average per case for Inception: 0.950\n",
      "Dice score average per case for ResNet152: 0.956\n",
      "Dice score average per case for ResNeXt101: 0.953\n",
      "Dice score average per case for Fusion: 0.000\n",
      "\n"
     ]
    }
   ],
   "source": [
    "# Evaluam DICE per case, average dice per slice si Jaccard\n",
    "dice_loss = DiceLoss()\n",
    "jaccard = JaccardIndex()\n",
    "\n",
    "for i in range(len(models)):\n",
    "    dice = 1.0 - dice_loss(ground_truth, seg[i, :, :, :].squeeze())\n",
    "    print(f\"Dice score average per case for {models[i]}: {dice:.3f}\")\n",
    "print('')\n",
    "\n",
    "for i in range(len(models)):\n",
    "    dice = 1.0 - dice_loss(ground_truth, seg_proc[i, :, :, :].squeeze())\n",
    "    print(f\"Dice score average per case for {models[i]}: {dice:.3f}\")\n",
    "print('')\n",
    "\n",
    "# for i in range(len(models)):\n",
    "#     dice = 0\n",
    "#     for s in range(ground_truth.size(dim=0)):\n",
    "#         dice += (1.0 - dice_loss(ground_truth[s, :, :], seg[i, s, :, :]))\n",
    "#     dice = dice / ground_truth.size(dim=0)\n",
    "#     print(f\"Dice score per slice average for {models[i]}: {dice:.3f}\")\n",
    "# print('')\n",
    "\n",
    "# for i in range(len(models)):\n",
    "#     jcc_score = jaccard(ground_truth, seg[i, :, :, :].squeeze())\n",
    "#     print(f\"Jaccard index average per case for {models[i]}: {jcc_score:.3f}\")"
   ],
   "metadata": {
    "collapsed": false,
    "pycharm": {
     "name": "#%%\n"
    }
   }
  },
  {
   "cell_type": "code",
   "execution_count": null,
   "outputs": [],
   "source": [
    "# Facem diferentele de segmentari\n",
    "num_models = len(models)\n",
    "diff_dice = torch.zeros(num_models, num_models)\n",
    "for i in range(num_models):\n",
    "    for j in range(num_models):\n",
    "        diff_dice[i, j] = 1.0 - dice_loss(seg[i, :, :, :] ^ ground_truth, seg[j, :, :, :] ^ ground_truth)\n",
    "diff_dice = diff_dice.cpu().numpy()"
   ],
   "metadata": {
    "collapsed": false,
    "pycharm": {
     "name": "#%%\n"
    }
   }
  },
  {
   "cell_type": "code",
   "execution_count": null,
   "outputs": [],
   "source": [
    "plt.figure(figsize = (8, 8))\n",
    "sns.set(font_scale=1.4)\n",
    "hmap = sns.heatmap(data=diff_dice, annot=True, xticklabels=models, yticklabels=models, square=True, cbar=False, cmap='viridis')\n",
    "plt.xticks(rotation=45)\n",
    "plt.yticks(rotation=0)\n",
    "hmap.set_title(\"DICE similarity between model errors\", fontsize=20)"
   ],
   "metadata": {
    "collapsed": false,
    "pycharm": {
     "name": "#%%\n"
    }
   }
  },
  {
   "cell_type": "code",
   "execution_count": null,
   "outputs": [],
   "source": [],
   "metadata": {
    "collapsed": false,
    "pycharm": {
     "name": "#%%\n"
    }
   }
  }
 ],
 "metadata": {
  "kernelspec": {
   "display_name": "Python 3",
   "language": "python",
   "name": "python3"
  },
  "language_info": {
   "codemirror_mode": {
    "name": "ipython",
    "version": 2
   },
   "file_extension": ".py",
   "mimetype": "text/x-python",
   "name": "python",
   "nbconvert_exporter": "python",
   "pygments_lexer": "ipython2",
   "version": "2.7.6"
  }
 },
 "nbformat": 4,
 "nbformat_minor": 0
}