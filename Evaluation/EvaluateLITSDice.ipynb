{
 "cells": [
  {
   "cell_type": "markdown",
   "source": [
    "## Evaluam performanta unei anumite epoci\n"
   ],
   "metadata": {
    "collapsed": false
   }
  },
  {
   "cell_type": "code",
   "execution_count": 1,
   "metadata": {
    "collapsed": true
   },
   "outputs": [],
   "source": [
    "import torch\n",
    "from torch.utils.data import Dataset\n",
    "from torch.nn import functional as F\n",
    "\n",
    "%matplotlib widget\n",
    "\n",
    "from utils.function_lib import *\n",
    "from utils.LiverDataset import *\n",
    "from utils.DiceLoss import *\n",
    "\n",
    "from ModelBuilder.ResNet152_DeepLab import ResNet152DeepLab\n",
    "from ModelBuilder.ResNeXt101_DeepLab import ResNeXt101DeepLab\n",
    "from ModelBuilder.InceptionV3_DeepLab import InceptionV3DeepLab\n",
    "from ModelBuilder.DenseNet201_DeepLab import DenseNet201DeepLab"
   ]
  },
  {
   "cell_type": "markdown",
   "source": [
    "## Transformari si dataset"
   ],
   "metadata": {
    "collapsed": false
   }
  },
  {
   "cell_type": "code",
   "execution_count": 2,
   "outputs": [],
   "source": [
    "transform_image = transforms.Compose(\n",
    "    [\n",
    "     # transforms.ToPILImage(),\n",
    "     # transforms.Resize(256, interpolation=transforms.functional.InterpolationMode.BILINEAR, antialias=True),\n",
    "     transforms.ToTensor(),\n",
    "     transforms.Normalize(mean=[0.2], std=[0.2])\n",
    "     ])\n",
    "transform_mask = transforms.Compose(\n",
    "    [\n",
    "     # transforms.ToPILImage(),\n",
    "     # transforms.Resize(512, interpolation=transforms.functional.InterpolationMode.NEAREST),\n",
    "     transforms.ToTensor()\n",
    "     ])\n",
    "\n",
    "path = 'G:/MachineLearning/liver-database/'\n",
    "model_path = 'G:/MachineLearning/models/ResNet152/'\n",
    "\n",
    "dataset_test = LiverDataset(path + 'validation/', transform_image=transform_image, transform_mask=transform_mask)\n",
    "dataloader_test = torch.utils.data.DataLoader(dataset_test, batch_size=2, shuffle=True, num_workers=9)"
   ],
   "metadata": {
    "collapsed": false,
    "pycharm": {
     "name": "#%%\n"
    }
   }
  },
  {
   "cell_type": "markdown",
   "source": [
    "## Incarcam modelul"
   ],
   "metadata": {
    "collapsed": false
   }
  },
  {
   "cell_type": "code",
   "execution_count": 3,
   "outputs": [],
   "source": [
    "# device =  torch.device('cuda' if torch.cuda.is_available() else 'cpu')\n",
    "device = torch.device('cuda')\n",
    "model_name = 'ResNet152_200.pt'\n",
    "\n",
    "model = torch.load(model_path + model_name)\n",
    "model = model.to(device)\n",
    "model = model.module\n",
    "\n",
    "torch.cuda.empty_cache()\n",
    "model = model.to(device)\n",
    "loss_fn = DiceLoss().to(device)"
   ],
   "metadata": {
    "collapsed": false,
    "pycharm": {
     "name": "#%%\n"
    }
   }
  },
  {
   "cell_type": "markdown",
   "source": [
    "## Evaluam datele de validare prin retea\n",
    "Trecem prin retea toate imaginile din setul de validare/testare si calculam scorul Dice mediu pentru toate imaginile"
   ],
   "metadata": {
    "collapsed": false
   }
  },
  {
   "cell_type": "code",
   "execution_count": 4,
   "outputs": [
    {
     "name": "stdout",
     "output_type": "stream",
     "text": [
      "Avg Dice: 0.962403 \n",
      "\n"
     ]
    }
   ],
   "source": [
    "loss = 0\n",
    "model.eval()\n",
    "with torch.no_grad():\n",
    "    for X, Y in dataloader_test:\n",
    "        pred = model(X.to(device))\n",
    "        SoftMax = nn.Softmax2d()\n",
    "        pred = SoftMax(pred).squeeze()\n",
    "        pred = torch.nn.functional.interpolate(pred.unsqueeze(0), size=512, mode=\"bilinear\", align_corners=False).squeeze()\n",
    "        pred = torch.round(pred)\n",
    "\n",
    "        # Y = Y.type(torch.long)\n",
    "        Y = Y.to(device)\n",
    "        loss += loss_fn(pred, Y).item()\n",
    "loss = loss / len(dataloader_test)\n",
    "print(f\"Avg Dice: {loss:>8f} \\n\")"
   ],
   "metadata": {
    "collapsed": false,
    "pycharm": {
     "name": "#%%\n"
    }
   }
  },
  {
   "cell_type": "code",
   "execution_count": null,
   "outputs": [],
   "source": [],
   "metadata": {
    "collapsed": false,
    "pycharm": {
     "name": "#%%\n"
    }
   }
  }
 ],
 "metadata": {
  "kernelspec": {
   "display_name": "Python 3",
   "language": "python",
   "name": "python3"
  },
  "language_info": {
   "codemirror_mode": {
    "name": "ipython",
    "version": 2
   },
   "file_extension": ".py",
   "mimetype": "text/x-python",
   "name": "python",
   "nbconvert_exporter": "python",
   "pygments_lexer": "ipython2",
   "version": "2.7.6"
  }
 },
 "nbformat": 4,
 "nbformat_minor": 0
}