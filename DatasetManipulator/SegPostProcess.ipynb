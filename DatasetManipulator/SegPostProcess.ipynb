{
 "cells": [
  {
   "cell_type": "code",
   "execution_count": 1,
   "metadata": {
    "collapsed": true
   },
   "outputs": [],
   "source": [
    "from skimage.measure import label, regionprops\n",
    "import math\n",
    "\n",
    "from utils.DiceLoss import DiceLoss\n",
    "from utils.JaccardIndex import JaccardIndex\n",
    "import glob\n",
    "import numpy as np\n",
    "import torch\n",
    "import matplotlib.pyplot as plt\n",
    "import seaborn as sns"
   ]
  },
  {
   "cell_type": "code",
   "execution_count": 2,
   "outputs": [
    {
     "name": "stdout",
     "output_type": "stream",
     "text": [
      "Done loading DenseNet201\n",
      "Done loading Inception\n",
      "Done loading ResNet152\n",
      "Done loading ResNeXt101\n"
     ]
    }
   ],
   "source": [
    "# Incarcare imagini presegmentate\n",
    "seg_folder = 'G:/MachineLearning/liver-database/validation/'\n",
    "models = ['DenseNet201', 'Inception', 'ResNet152', 'ResNeXt101']\n",
    "# models = ['DenseNet201']\n",
    "# models = ['UNet', 'Fusion']\n",
    "seg = np.zeros((len(models), 4776, 512, 512), dtype=bool)\n",
    "seg_proc = np.zeros((len(models), 4776, 512, 512), dtype=bool)\n",
    "for i in range(len(models)):\n",
    "    full_path = seg_folder + models[i]\n",
    "    seg_files = glob.glob(full_path + '/*.ct')\n",
    "    for j in range(len(seg_files)):\n",
    "        seg[i, j, :, :] = np.fromfile(seg_files[j], dtype=np.int8).squeeze().reshape([512, 512]).astype(bool)\n",
    "    print(f\"Done loading {models[i]}\")\n",
    "\n",
    "seg = torch.tensor(seg)"
   ],
   "metadata": {
    "collapsed": false,
    "pycharm": {
     "name": "#%%\n"
    }
   }
  },
  {
   "cell_type": "code",
   "execution_count": 3,
   "outputs": [
    {
     "name": "stdout",
     "output_type": "stream",
     "text": [
      "----------------- DenseNet201 -----------------\n",
      "----------------- Inception -----------------\n",
      "----------------- ResNet152 -----------------\n",
      "----------------- ResNeXt101 -----------------\n"
     ]
    }
   ],
   "source": [
    "for i in range(len(models)):\n",
    "    print(f\"----------------- {models[i]} -----------------\")\n",
    "    for j in range(4776):\n",
    "        slice = np.copy(np.squeeze(seg[i, j, :, :].numpy()))\n",
    "        label_img = label(slice, connectivity=2)\n",
    "        props = regionprops(label_img)\n",
    "        if len(props) < 2:\n",
    "            seg_proc[i, j, :, :] = np.copy(slice)\n",
    "        else:\n",
    "            props.sort(key=lambda x: x.area, reverse=True)\n",
    "            main_area = props[0].area\n",
    "            main_centroid = props[0].centroid\n",
    "            for p in props:\n",
    "                distance = math.sqrt((main_centroid[0] - p.centroid[0])**2 + (main_centroid[1] - p.centroid[1])**2)\n",
    "                if p.area < main_area / 8 or distance > 200 or p.area < 400:\n",
    "                    for px in range(p.coords.shape[0]):\n",
    "                        slice[p.coords[px, 0], p.coords[px, 1]] = False\n",
    "\n",
    "        seg_proc[i, j, :, :] =  np.copy(slice)\n",
    "        slice.astype(np.int8).tofile(seg_folder + 'processed/' + models[i] + '/output' + (\"-%04d.ct\" % j))"
   ],
   "metadata": {
    "collapsed": false,
    "pycharm": {
     "name": "#%%\n"
    }
   }
  },
  {
   "cell_type": "code",
   "execution_count": null,
   "outputs": [],
   "source": [],
   "metadata": {
    "collapsed": false,
    "pycharm": {
     "name": "#%%\n"
    }
   }
  }
 ],
 "metadata": {
  "kernelspec": {
   "display_name": "Python 3",
   "language": "python",
   "name": "python3"
  },
  "language_info": {
   "codemirror_mode": {
    "name": "ipython",
    "version": 2
   },
   "file_extension": ".py",
   "mimetype": "text/x-python",
   "name": "python",
   "nbconvert_exporter": "python",
   "pygments_lexer": "ipython2",
   "version": "2.7.6"
  }
 },
 "nbformat": 4,
 "nbformat_minor": 0
}