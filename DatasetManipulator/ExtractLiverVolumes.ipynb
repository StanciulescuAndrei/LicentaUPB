{
 "cells": [
  {
   "cell_type": "markdown",
   "source": [
    "# Extragem doar volumul hepatic de interes, bazat pe segmentarile corecte"
   ],
   "metadata": {
    "collapsed": false
   }
  },
  {
   "cell_type": "code",
   "execution_count": 18,
   "metadata": {
    "collapsed": true
   },
   "outputs": [],
   "source": [
    "from PIL import Image\n",
    "import glob\n",
    "import shutil\n",
    "import os\n",
    "import numpy as np\n",
    "import nibabel as nib\n",
    "import torchvision.transforms\n",
    "from tqdm.notebook import tqdm\n",
    "from matplotlib import pyplot as plt\n",
    "import torch\n",
    "import torchvision\n",
    "\n",
    "import seaborn as sns\n",
    "\n",
    "from skimage import exposure\n",
    "from skimage.measure import label, regionprops"
   ]
  },
  {
   "cell_type": "code",
   "execution_count": 2,
   "outputs": [],
   "source": [
    "root_dir = \"G:/MachineLearning/training-batch-1/testing/\"\n",
    "out_dir = \"G:/MachineLearning/lesion-database/testing/\"\n",
    "image_files = sorted(glob.glob(root_dir + 'volume*.nii'))\n",
    "mask_files = sorted(glob.glob(root_dir + 'segmentation*.nii'))"
   ],
   "metadata": {
    "collapsed": false,
    "pycharm": {
     "name": "#%%\n"
    }
   }
  },
  {
   "cell_type": "code",
   "execution_count": 3,
   "outputs": [
    {
     "data": {
      "text/plain": "  0%|          | 0/10 [00:00<?, ?it/s]",
      "application/vnd.jupyter.widget-view+json": {
       "version_major": 2,
       "version_minor": 0,
       "model_id": "feb16b316d634c2b859a0ba0c35c348c"
      }
     },
     "metadata": {},
     "output_type": "display_data"
    },
    {
     "data": {
      "text/plain": "  0%|          | 0/29 [00:00<?, ?it/s]",
      "application/vnd.jupyter.widget-view+json": {
       "version_major": 2,
       "version_minor": 0,
       "model_id": "b87d2221f07a40a2984b1cf113934c48"
      }
     },
     "metadata": {},
     "output_type": "display_data"
    },
    {
     "data": {
      "text/plain": "  0%|          | 0/29 [00:00<?, ?it/s]",
      "application/vnd.jupyter.widget-view+json": {
       "version_major": 2,
       "version_minor": 0,
       "model_id": "23aa3aed363c487a91253d658ba77ad5"
      }
     },
     "metadata": {},
     "output_type": "display_data"
    },
    {
     "data": {
      "text/plain": "  0%|          | 0/139 [00:00<?, ?it/s]",
      "application/vnd.jupyter.widget-view+json": {
       "version_major": 2,
       "version_minor": 0,
       "model_id": "ea7a1a0c3b8b4cbc9b61c8b3d1435180"
      }
     },
     "metadata": {},
     "output_type": "display_data"
    },
    {
     "data": {
      "text/plain": "  0%|          | 0/169 [00:00<?, ?it/s]",
      "application/vnd.jupyter.widget-view+json": {
       "version_major": 2,
       "version_minor": 0,
       "model_id": "1ea34c55e9d84a1b930e68a6bf7633a4"
      }
     },
     "metadata": {},
     "output_type": "display_data"
    },
    {
     "data": {
      "text/plain": "  0%|          | 0/250 [00:00<?, ?it/s]",
      "application/vnd.jupyter.widget-view+json": {
       "version_major": 2,
       "version_minor": 0,
       "model_id": "fc303573d4cc4034b76b2171d79e8b94"
      }
     },
     "metadata": {},
     "output_type": "display_data"
    },
    {
     "data": {
      "text/plain": "  0%|          | 0/176 [00:00<?, ?it/s]",
      "application/vnd.jupyter.widget-view+json": {
       "version_major": 2,
       "version_minor": 0,
       "model_id": "7ecb1b5b2f3340bbbc2f969b0c1d4efa"
      }
     },
     "metadata": {},
     "output_type": "display_data"
    },
    {
     "data": {
      "text/plain": "  0%|          | 0/186 [00:00<?, ?it/s]",
      "application/vnd.jupyter.widget-view+json": {
       "version_major": 2,
       "version_minor": 0,
       "model_id": "28e7556e193643ae899801a4c1d32b18"
      }
     },
     "metadata": {},
     "output_type": "display_data"
    },
    {
     "data": {
      "text/plain": "  0%|          | 0/177 [00:00<?, ?it/s]",
      "application/vnd.jupyter.widget-view+json": {
       "version_major": 2,
       "version_minor": 0,
       "model_id": "3bc8d8810b5a44b19dd42656fd06512a"
      }
     },
     "metadata": {},
     "output_type": "display_data"
    },
    {
     "data": {
      "text/plain": "  0%|          | 0/179 [00:00<?, ?it/s]",
      "application/vnd.jupyter.widget-view+json": {
       "version_major": 2,
       "version_minor": 0,
       "model_id": "68d24dc64a6a471e81547d759d5f42b4"
      }
     },
     "metadata": {},
     "output_type": "display_data"
    },
    {
     "data": {
      "text/plain": "  0%|          | 0/173 [00:00<?, ?it/s]",
      "application/vnd.jupyter.widget-view+json": {
       "version_major": 2,
       "version_minor": 0,
       "model_id": "92c05f40ff944952a8dbaca98e04ad1b"
      }
     },
     "metadata": {},
     "output_type": "display_data"
    }
   ],
   "source": [
    "\n",
    "window_min = -250\n",
    "window_max = 250\n",
    "\n",
    "downsample = torchvision.transforms.Compose(\n",
    "    [torchvision.transforms.ToPILImage(),\n",
    "     torchvision.transforms.Resize(256, interpolation=torchvision.transforms.InterpolationMode.BILINEAR, antialias=True),\n",
    "     torchvision.transforms.ToTensor()]\n",
    ")\n",
    "downsample_mask = torchvision.transforms.Compose(\n",
    "    [torchvision.transforms.ToPILImage(),\n",
    "     torchvision.transforms.Resize(256, interpolation=torchvision.transforms.InterpolationMode.NEAREST),\n",
    "     torchvision.transforms.ToTensor()]\n",
    ")\n",
    "\n",
    "num_img = len(image_files)\n",
    "\n",
    "for i in tqdm(range(num_img)):\n",
    "    image = nib.load(image_files[i])\n",
    "    image_data = image.get_fdata()\n",
    "\n",
    "\n",
    "    image = nib.load(mask_files[i])\n",
    "    mask_data = image.get_fdata()\n",
    "\n",
    "    liver_mask = np.array(mask_data > 0.9, dtype=np.int8)\n",
    "    image_data = np.multiply(image_data, liver_mask)\n",
    "    num_slices = image_data.shape[2] # 512 x 512 x num_slices\n",
    "\n",
    "    # print(f\"Mean: {np.mean(image_data[image_data > 0].flatten())}, Std: {np.std(image_data[image_data > 0].flatten())}\")\n",
    "\n",
    "    props = regionprops(liver_mask)\n",
    "    (minx, miny, minz, maxx, maxy, maxz) = props[0].bbox\n",
    "\n",
    "    crop_size = max(maxx - minx, maxy - miny) + 10\n",
    "    crop_center = (int((maxx + minx) / 2), int((maxy + miny) / 2))\n",
    "\n",
    "    bounds = [max(crop_center[0] - int(crop_size / 2), 0),\n",
    "              min(crop_center[0] + int(crop_size / 2), image_data.shape[0]),\n",
    "              max(crop_center[1] - int(crop_size / 2), 0),\n",
    "              min(crop_center[1] + int(crop_size / 2), image_data.shape[1])]\n",
    "\n",
    "    for j in tqdm(range(minz, maxz)):\n",
    "        # Mai intai prelucram imaginea\n",
    "        slc = image_data[bounds[0]:bounds[1], bounds[2]:bounds[3], j] # Taiem doar ce ne intereseaza\n",
    "        slc[slc < window_min] = window_min\n",
    "        slc[slc > window_max] = window_max\n",
    "        slc = (slc - window_min) / (window_max - window_min)\n",
    "\n",
    "        # if np.max(slc.flatten()) > 0.001:\n",
    "        #     mean = np.mean(slc[slc > 0].flatten())\n",
    "        #     slc[slc < 0.01] = mean\n",
    "        #     # p2, p98 = np.percentile(slc, (2, 98))\n",
    "        #     # slc = exposure.rescale_intensity(slc, in_range=(p2, p98))\n",
    "        #     slc = exposure.equalize_adapthist(slc, kernel_size=32, clip_limit=0.005)\n",
    "\n",
    "        slc = downsample(slc.astype(np.float32)).numpy()\n",
    "        slc.astype(np.float16).tofile(out_dir + \"images/\" + os.path.splitext(os.path.basename(image_files[i]))[0] + (\"-%04d.ct\" % j))\n",
    "\n",
    "        # Acum si imaginea\n",
    "        slc = mask_data[bounds[0]:bounds[1], bounds[2]:bounds[3], j] # Taiem doar ce ne intereseaza\n",
    "        slc[slc < 1.5] = 0.0\n",
    "        slc = downsample_mask(slc.astype(np.float32)).numpy()\n",
    "        slc.astype(np.float16).tofile(out_dir + \"masks/\" + os.path.splitext(os.path.basename(image_files[i]))[0] + (\"-%04d.ct\" % j))"
   ],
   "metadata": {
    "collapsed": false,
    "pycharm": {
     "name": "#%%\n"
    }
   }
  },
  {
   "cell_type": "code",
   "execution_count": 22,
   "outputs": [
    {
     "name": "stderr",
     "output_type": "stream",
     "text": [
      "C:\\Users\\Stanciu\\anaconda3\\envs\\MLEnv\\lib\\site-packages\\ipykernel_launcher.py:5: UserWarning: To copy construct from a tensor, it is recommended to use sourceTensor.clone().detach() or sourceTensor.clone().detach().requires_grad_(True), rather than torch.tensor(sourceTensor).\n",
      "  \"\"\"\n"
     ]
    },
    {
     "data": {
      "text/plain": "Text(0.5, 1.0, 'Contrast enhanced image')"
     },
     "execution_count": 22,
     "metadata": {},
     "output_type": "execute_result"
    },
    {
     "data": {
      "text/plain": "<Figure size 864x432 with 2 Axes>",
      "image/png": "[encoded data removed]"
     },
     "metadata": {},
     "output_type": "display_data"
    }
   ],
   "source": [
    "test_image = np.fromfile(out_dir + \"images/volume-0-0058.ct\", dtype=np.float16)\n",
    "test_image = torch.tensor(np.squeeze(test_image).reshape((256, 256)))\n",
    "\n",
    "orig_image = np.fromfile(out_dir + \"images/orig-0-0058.ct\", dtype=np.float16)\n",
    "orig_image = torch.tensor(np.squeeze(test_image).reshape((256, 256)))\n",
    "\n",
    "test_mask = np.fromfile(out_dir + \"masks/volume-0-0058.ct\", dtype=np.float16)\n",
    "test_mask = torch.tensor(np.squeeze(test_mask).reshape((256, 256)))\n",
    "\n",
    "img = torchvision.utils.draw_segmentation_masks((test_image*255).repeat(3, 1, 1).type(torch.uint8),\n",
    "                                                (test_mask).type(torch.bool), 0.0, \"red\")\n",
    "orig_img = torchvision.utils.draw_segmentation_masks((orig_image*255).repeat(3, 1, 1).type(torch.uint8),\n",
    "                                                     (test_mask).type(torch.bool), 0.0, \"red\")\n",
    "\n",
    "sns.set(font_scale=1.5)\n",
    "fig = plt.figure(figsize=(12, 6))\n",
    "ax1 = fig.add_subplot(1, 2, 1)\n",
    "ax1.imshow(torch.permute(img, (2, 1, 0)))\n",
    "ax1.set_xticks([0], [' '])\n",
    "ax1.set_yticks([0], [' '])\n",
    "ax1.set_title(\"Original image\")\n",
    "ax2 = fig.add_subplot(1, 2, 2)\n",
    "ax2.imshow(torch.permute(orig_img, (2, 1, 0)))\n",
    "ax2.set_xticks([0], [' '])\n",
    "ax2.set_yticks([0], [' '])\n",
    "ax2.set_title(\"Contrast enhanced image\")"
   ],
   "metadata": {
    "collapsed": false,
    "pycharm": {
     "name": "#%%\n"
    }
   }
  },
  {
   "cell_type": "code",
   "execution_count": null,
   "outputs": [],
   "source": [],
   "metadata": {
    "collapsed": false,
    "pycharm": {
     "name": "#%%\n"
    }
   }
  }
 ],
 "metadata": {
  "kernelspec": {
   "display_name": "Python 3",
   "language": "python",
   "name": "python3"
  },
  "language_info": {
   "codemirror_mode": {
    "name": "ipython",
    "version": 2
   },
   "file_extension": ".py",
   "mimetype": "text/x-python",
   "name": "python",
   "nbconvert_exporter": "python",
   "pygments_lexer": "ipython2",
   "version": "2.7.6"
  }
 },
 "nbformat": 4,
 "nbformat_minor": 0
}