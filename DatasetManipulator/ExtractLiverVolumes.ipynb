{
 "cells": [
  {
   "cell_type": "markdown",
   "source": [
    "# Extragem doar volumul hepatic de interes, bazat pe segmentarile corecte"
   ],
   "metadata": {
    "collapsed": false
   }
  },
  {
   "cell_type": "code",
   "execution_count": 5,
   "metadata": {
    "collapsed": true
   },
   "outputs": [],
   "source": [
    "from PIL import Image\n",
    "import glob\n",
    "import shutil\n",
    "import os\n",
    "import numpy as np\n",
    "import nibabel as nib\n",
    "import torchvision.transforms\n",
    "from tqdm.notebook import tqdm\n",
    "from matplotlib import pyplot as plt\n",
    "import torch\n",
    "import torchvision\n",
    "\n",
    "from skimage import exposure\n",
    "from skimage.measure import label, regionprops"
   ]
  },
  {
   "cell_type": "code",
   "execution_count": 6,
   "outputs": [],
   "source": [
    "root_dir = \"G:/MachineLearning/training-batch-1/testing/\"\n",
    "out_dir = \"G:/MachineLearning/lesion-database/testing/\"\n",
    "image_files = sorted(glob.glob(root_dir + 'volume*.nii'))\n",
    "mask_files = sorted(glob.glob(root_dir + 'segmentation*.nii'))"
   ],
   "metadata": {
    "collapsed": false,
    "pycharm": {
     "name": "#%%\n"
    }
   }
  },
  {
   "cell_type": "code",
   "execution_count": 28,
   "outputs": [
    {
     "data": {
      "text/plain": "  0%|          | 0/10 [00:00<?, ?it/s]",
      "application/vnd.jupyter.widget-view+json": {
       "version_major": 2,
       "version_minor": 0,
       "model_id": "64e12be4af194706acd4e96f7e46ce8e"
      }
     },
     "metadata": {},
     "output_type": "display_data"
    },
    {
     "data": {
      "text/plain": "  0%|          | 0/29 [00:00<?, ?it/s]",
      "application/vnd.jupyter.widget-view+json": {
       "version_major": 2,
       "version_minor": 0,
       "model_id": "f95f9e41b2494c7eb776f6ef79d4a332"
      }
     },
     "metadata": {},
     "output_type": "display_data"
    },
    {
     "data": {
      "text/plain": "  0%|          | 0/29 [00:00<?, ?it/s]",
      "application/vnd.jupyter.widget-view+json": {
       "version_major": 2,
       "version_minor": 0,
       "model_id": "b0a89d05f5f348c285e4272cbe2290a9"
      }
     },
     "metadata": {},
     "output_type": "display_data"
    },
    {
     "data": {
      "text/plain": "  0%|          | 0/139 [00:00<?, ?it/s]",
      "application/vnd.jupyter.widget-view+json": {
       "version_major": 2,
       "version_minor": 0,
       "model_id": "326b8f9ac1b84a5e9ec728b981a58390"
      }
     },
     "metadata": {},
     "output_type": "display_data"
    },
    {
     "data": {
      "text/plain": "  0%|          | 0/169 [00:00<?, ?it/s]",
      "application/vnd.jupyter.widget-view+json": {
       "version_major": 2,
       "version_minor": 0,
       "model_id": "0a3e428fc9434867ac738c32e5345d3d"
      }
     },
     "metadata": {},
     "output_type": "display_data"
    },
    {
     "data": {
      "text/plain": "  0%|          | 0/250 [00:00<?, ?it/s]",
      "application/vnd.jupyter.widget-view+json": {
       "version_major": 2,
       "version_minor": 0,
       "model_id": "3e5b0a8cfcb84e7fb502564618918a53"
      }
     },
     "metadata": {},
     "output_type": "display_data"
    },
    {
     "data": {
      "text/plain": "  0%|          | 0/176 [00:00<?, ?it/s]",
      "application/vnd.jupyter.widget-view+json": {
       "version_major": 2,
       "version_minor": 0,
       "model_id": "3fa3449fc656439d9b76d57e3f444601"
      }
     },
     "metadata": {},
     "output_type": "display_data"
    },
    {
     "data": {
      "text/plain": "  0%|          | 0/186 [00:00<?, ?it/s]",
      "application/vnd.jupyter.widget-view+json": {
       "version_major": 2,
       "version_minor": 0,
       "model_id": "6275d4a0d3184abe85303c8be9b2c1f3"
      }
     },
     "metadata": {},
     "output_type": "display_data"
    },
    {
     "data": {
      "text/plain": "  0%|          | 0/177 [00:00<?, ?it/s]",
      "application/vnd.jupyter.widget-view+json": {
       "version_major": 2,
       "version_minor": 0,
       "model_id": "93448d9f8f9a44ee9403b752098c1505"
      }
     },
     "metadata": {},
     "output_type": "display_data"
    },
    {
     "data": {
      "text/plain": "  0%|          | 0/179 [00:00<?, ?it/s]",
      "application/vnd.jupyter.widget-view+json": {
       "version_major": 2,
       "version_minor": 0,
       "model_id": "34527225bc2f49f38c4ccc586910ebec"
      }
     },
     "metadata": {},
     "output_type": "display_data"
    },
    {
     "data": {
      "text/plain": "  0%|          | 0/173 [00:00<?, ?it/s]",
      "application/vnd.jupyter.widget-view+json": {
       "version_major": 2,
       "version_minor": 0,
       "model_id": "66ba8d55658048239ff2b4cd2c9716a4"
      }
     },
     "metadata": {},
     "output_type": "display_data"
    }
   ],
   "source": [
    "\n",
    "window_min = -250\n",
    "window_max = 250\n",
    "\n",
    "downsample = torchvision.transforms.Compose(\n",
    "    [torchvision.transforms.ToPILImage(),\n",
    "     torchvision.transforms.Resize(256, interpolation=torchvision.transforms.InterpolationMode.BILINEAR, antialias=True),\n",
    "     torchvision.transforms.ToTensor()]\n",
    ")\n",
    "downsample_mask = torchvision.transforms.Compose(\n",
    "    [torchvision.transforms.ToPILImage(),\n",
    "     torchvision.transforms.Resize(256, interpolation=torchvision.transforms.InterpolationMode.NEAREST),\n",
    "     torchvision.transforms.ToTensor()]\n",
    ")\n",
    "\n",
    "num_img = len(image_files)\n",
    "\n",
    "for i in tqdm(range(num_img)):\n",
    "    image = nib.load(image_files[i])\n",
    "    image_data = image.get_fdata()\n",
    "\n",
    "\n",
    "    image = nib.load(mask_files[i])\n",
    "    mask_data = image.get_fdata()\n",
    "\n",
    "    liver_mask = np.array(mask_data > 0.9, dtype=np.int8)\n",
    "    image_data = np.multiply(image_data, liver_mask)\n",
    "    num_slices = image_data.shape[2] # 512 x 512 x num_slices\n",
    "\n",
    "    # print(f\"Mean: {np.mean(image_data[image_data > 0].flatten())}, Std: {np.std(image_data[image_data > 0].flatten())}\")\n",
    "\n",
    "    props = regionprops(liver_mask)\n",
    "    (minx, miny, minz, maxx, maxy, maxz) = props[0].bbox\n",
    "\n",
    "    crop_size = max(maxx - minx, maxy - miny) + 10\n",
    "    crop_center = (int((maxx + minx) / 2), int((maxy + miny) / 2))\n",
    "\n",
    "    bounds = [max(crop_center[0] - int(crop_size / 2), 0),\n",
    "              min(crop_center[0] + int(crop_size / 2), image_data.shape[0]),\n",
    "              max(crop_center[1] - int(crop_size / 2), 0),\n",
    "              min(crop_center[1] + int(crop_size / 2), image_data.shape[1])]\n",
    "\n",
    "    for j in tqdm(range(minz, maxz)):\n",
    "        # Mai intai prelucram imaginea\n",
    "        slc = image_data[bounds[0]:bounds[1], bounds[2]:bounds[3], j] # Taiem doar ce ne intereseaza\n",
    "        slc[slc < window_min] = window_min\n",
    "        slc[slc > window_max] = window_max\n",
    "        slc = (slc - window_min) / (window_max - window_min)\n",
    "\n",
    "        if np.max(slc.flatten()) > 0.001:\n",
    "            mean = np.mean(slc[slc > 0].flatten())\n",
    "            slc[slc < 0.01] = mean\n",
    "            slc = exposure.equalize_adapthist(slc, kernel_size=32, clip_limit=0.005)\n",
    "\n",
    "        slc = downsample(slc.astype(np.float32)).numpy()\n",
    "        slc.astype(np.float16).tofile(out_dir + \"images/\" + os.path.splitext(os.path.basename(image_files[i]))[0] + (\"-%04d.ct\" % j))\n",
    "\n",
    "        # Acum si imaginea\n",
    "        slc = mask_data[bounds[0]:bounds[1], bounds[2]:bounds[3], j] # Taiem doar ce ne intereseaza\n",
    "        slc[slc < 1.5] = 0.0\n",
    "        slc = downsample_mask(slc.astype(np.float32)).numpy()\n",
    "        slc.astype(np.float16).tofile(out_dir + \"masks/\" + os.path.splitext(os.path.basename(image_files[i]))[0] + (\"-%04d.ct\" % j))"
   ],
   "metadata": {
    "collapsed": false,
    "pycharm": {
     "name": "#%%\n"
    }
   }
  },
  {
   "cell_type": "code",
   "execution_count": 30,
   "outputs": [
    {
     "data": {
      "text/plain": "<matplotlib.image.AxesImage at 0x22703bcb788>"
     },
     "execution_count": 30,
     "metadata": {},
     "output_type": "execute_result"
    },
    {
     "data": {
      "text/plain": "<Figure size 432x288 with 1 Axes>",
      "image/png": "[encoded data removed]"
     },
     "metadata": {
      "needs_background": "light"
     },
     "output_type": "display_data"
    }
   ],
   "source": [
    "test_image = np.fromfile(out_dir + \"images/volume-2-0446.ct\", dtype=np.float16)\n",
    "test_image = torch.tensor(np.squeeze(test_image).reshape((256, 256)))\n",
    "\n",
    "test_mask = np.fromfile(out_dir + \"masks/volume-2-0446.ct\", dtype=np.float16)\n",
    "test_mask = torch.tensor(np.squeeze(test_mask).reshape((256, 256)))\n",
    "\n",
    "img = torchvision.utils.draw_segmentation_masks((test_image*255).repeat(3, 1, 1).type(torch.uint8),\n",
    "                                                (test_mask).type(torch.bool), 0.0, \"red\")\n",
    "plt.imshow(torch.permute(img, (2, 1, 0)))"
   ],
   "metadata": {
    "collapsed": false,
    "pycharm": {
     "name": "#%%\n"
    }
   }
  },
  {
   "cell_type": "code",
   "execution_count": null,
   "outputs": [],
   "source": [],
   "metadata": {
    "collapsed": false,
    "pycharm": {
     "name": "#%%\n"
    }
   }
  }
 ],
 "metadata": {
  "kernelspec": {
   "display_name": "Python 3",
   "language": "python",
   "name": "python3"
  },
  "language_info": {
   "codemirror_mode": {
    "name": "ipython",
    "version": 2
   },
   "file_extension": ".py",
   "mimetype": "text/x-python",
   "name": "python",
   "nbconvert_exporter": "python",
   "pygments_lexer": "ipython2",
   "version": "2.7.6"
  }
 },
 "nbformat": 4,
 "nbformat_minor": 0
}